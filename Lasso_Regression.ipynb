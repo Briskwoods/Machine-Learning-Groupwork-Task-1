{
  "nbformat": 4,
  "nbformat_minor": 0,
  "metadata": {
    "colab": {
      "name": "Lasso Regression",
      "provenance": [],
      "authorship_tag": "ABX9TyPJBYCF7DyYuKpJ3oP0lZfX",
      "include_colab_link": true
    },
    "kernelspec": {
      "name": "python3",
      "display_name": "Python 3"
    }
  },
  "cells": [
    {
      "cell_type": "markdown",
      "metadata": {
        "id": "view-in-github",
        "colab_type": "text"
      },
      "source": [
        "<a href=\"https://colab.research.google.com/github/Briskwoods/Machine-Learning-Groupwork-Task-1/blob/master/Lasso_Regression.ipynb\" target=\"_parent\"><img src=\"https://colab.research.google.com/assets/colab-badge.svg\" alt=\"Open In Colab\"/></a>"
      ]
    },
    {
      "cell_type": "code",
      "metadata": {
        "id": "TmwS1AUnFdSB",
        "colab_type": "code",
        "colab": {}
      },
      "source": [
        "import os\n",
        "from pydrive.auth import GoogleAuth\n",
        "from pydrive.drive import GoogleDrive\n",
        "from google.colab import auth\n",
        "from oauth2client.client import GoogleCredentials\n",
        "\n",
        "auth.authenticate_user()\n",
        "gauth = GoogleAuth()\n",
        "gauth.credentials = GoogleCredentials.get_application_default()\n",
        "drive = GoogleDrive(gauth)"
      ],
      "execution_count": 0,
      "outputs": []
    },
    {
      "cell_type": "code",
      "metadata": {
        "id": "yfpklyYTGtFf",
        "colab_type": "code",
        "colab": {}
      },
      "source": [
        "download = drive.CreateFile({'id':'1NnEbiLsWH5V5TPtvZiIrTSPQYB2X3wRS'})\n",
        "download.GetContentFile('data.csv')"
      ],
      "execution_count": 0,
      "outputs": []
    },
    {
      "cell_type": "code",
      "metadata": {
        "id": "Z6vT3hLhHcjb",
        "colab_type": "code",
        "colab": {}
      },
      "source": [
        "import numpy as np\n",
        "import pandas as pd\n",
        "import matplotlib.pyplot as plt\n"
      ],
      "execution_count": 0,
      "outputs": []
    },
    {
      "cell_type": "code",
      "metadata": {
        "id": "g_6HBo7JJYvi",
        "colab_type": "code",
        "outputId": "f33a5745-6469-4095-e271-6dc79319a543",
        "colab": {
          "base_uri": "https://localhost:8080/",
          "height": 399
        }
      },
      "source": [
        "df = pd.read_csv('data.csv')\n",
        "df #is data variable"
      ],
      "execution_count": 5,
      "outputs": [
        {
          "output_type": "execute_result",
          "data": {
            "text/html": [
              "<div>\n",
              "<style scoped>\n",
              "    .dataframe tbody tr th:only-of-type {\n",
              "        vertical-align: middle;\n",
              "    }\n",
              "\n",
              "    .dataframe tbody tr th {\n",
              "        vertical-align: top;\n",
              "    }\n",
              "\n",
              "    .dataframe thead th {\n",
              "        text-align: right;\n",
              "    }\n",
              "</style>\n",
              "<table border=\"1\" class=\"dataframe\">\n",
              "  <thead>\n",
              "    <tr style=\"text-align: right;\">\n",
              "      <th></th>\n",
              "      <th>size_in_sq_ft</th>\n",
              "      <th>price_x1000_sh</th>\n",
              "    </tr>\n",
              "  </thead>\n",
              "  <tbody>\n",
              "    <tr>\n",
              "      <th>0</th>\n",
              "      <td>32.502345</td>\n",
              "      <td>31.707006</td>\n",
              "    </tr>\n",
              "    <tr>\n",
              "      <th>1</th>\n",
              "      <td>53.426804</td>\n",
              "      <td>68.777596</td>\n",
              "    </tr>\n",
              "    <tr>\n",
              "      <th>2</th>\n",
              "      <td>61.530358</td>\n",
              "      <td>62.562382</td>\n",
              "    </tr>\n",
              "    <tr>\n",
              "      <th>3</th>\n",
              "      <td>47.475640</td>\n",
              "      <td>71.546632</td>\n",
              "    </tr>\n",
              "    <tr>\n",
              "      <th>4</th>\n",
              "      <td>59.813208</td>\n",
              "      <td>87.230925</td>\n",
              "    </tr>\n",
              "    <tr>\n",
              "      <th>...</th>\n",
              "      <td>...</td>\n",
              "      <td>...</td>\n",
              "    </tr>\n",
              "    <tr>\n",
              "      <th>95</th>\n",
              "      <td>50.030174</td>\n",
              "      <td>81.536991</td>\n",
              "    </tr>\n",
              "    <tr>\n",
              "      <th>96</th>\n",
              "      <td>49.239765</td>\n",
              "      <td>72.111832</td>\n",
              "    </tr>\n",
              "    <tr>\n",
              "      <th>97</th>\n",
              "      <td>50.039576</td>\n",
              "      <td>85.232007</td>\n",
              "    </tr>\n",
              "    <tr>\n",
              "      <th>98</th>\n",
              "      <td>48.149859</td>\n",
              "      <td>66.224958</td>\n",
              "    </tr>\n",
              "    <tr>\n",
              "      <th>99</th>\n",
              "      <td>25.128485</td>\n",
              "      <td>53.454394</td>\n",
              "    </tr>\n",
              "  </tbody>\n",
              "</table>\n",
              "<p>100 rows × 2 columns</p>\n",
              "</div>"
            ],
            "text/plain": [
              "    size_in_sq_ft  price_x1000_sh\n",
              "0       32.502345       31.707006\n",
              "1       53.426804       68.777596\n",
              "2       61.530358       62.562382\n",
              "3       47.475640       71.546632\n",
              "4       59.813208       87.230925\n",
              "..            ...             ...\n",
              "95      50.030174       81.536991\n",
              "96      49.239765       72.111832\n",
              "97      50.039576       85.232007\n",
              "98      48.149859       66.224958\n",
              "99      25.128485       53.454394\n",
              "\n",
              "[100 rows x 2 columns]"
            ]
          },
          "metadata": {
            "tags": []
          },
          "execution_count": 5
        }
      ]
    },
    {
      "cell_type": "code",
      "metadata": {
        "id": "qzODCgJ8KLjO",
        "colab_type": "code",
        "colab": {}
      },
      "source": [
        "#variables\n",
        "m = 0\n",
        "c = 0\n",
        "L = 0.0001 #learning rate\n",
        "epochs = 100\n",
        "lambdaVal = 1.5\n",
        "epoch_error_list = []\n",
        "epoch_count_list = []\n"
      ],
      "execution_count": 0,
      "outputs": []
    },
    {
      "cell_type": "code",
      "metadata": {
        "id": "qDxnFRhcK_Fv",
        "colab_type": "code",
        "outputId": "d26b0e23-1f3f-4fbf-96c4-24fd6b50cd76",
        "colab": {
          "base_uri": "https://localhost:8080/",
          "height": 230
        }
      },
      "source": [
        "X = df['size_in_sq_ft']\n",
        "Y = df['price_x1000_sh'] \n",
        "\n",
        "N = float(len(X))\n",
        "print(X)"
      ],
      "execution_count": 23,
      "outputs": [
        {
          "output_type": "stream",
          "text": [
            "0     32.502345\n",
            "1     53.426804\n",
            "2     61.530358\n",
            "3     47.475640\n",
            "4     59.813208\n",
            "        ...    \n",
            "95    50.030174\n",
            "96    49.239765\n",
            "97    50.039576\n",
            "98    48.149859\n",
            "99    25.128485\n",
            "Name: size_in_sq_ft, Length: 100, dtype: float64\n"
          ],
          "name": "stdout"
        }
      ]
    },
    {
      "cell_type": "code",
      "metadata": {
        "id": "WxlbMRIvv-k4",
        "colab_type": "code",
        "colab": {}
      },
      "source": [
        "def lasso_reg(N,Y,Y_hat,lambdaVal,weights): #L1 regularization function\n",
        "  return (1/N)*sum(Y-Y_hat)**2 - (lambdaVal)* abs(m)"
      ],
      "execution_count": 0,
      "outputs": []
    },
    {
      "cell_type": "code",
      "metadata": {
        "id": "DjwZaZA4MDCX",
        "colab_type": "code",
        "colab": {}
      },
      "source": [
        "#main function \n",
        "def gradient_descent_fit(m,c,N,L):\n",
        "  epoch_error_list = []\n",
        "  epoch_count_list = []\n",
        " \n",
        "  for i in  range(epochs):\n",
        "    Y_hat = m*X+c\n",
        "    #partial derivative\n",
        "    epoch_count_list=epoch_count_list[:]#trick the list to get its instace\n",
        "    epoch_count_list.append(i)\n",
        "    epoch_error = lasso_reg(N,Y,Y_hat,lambdaVal,m)\n",
        "    epoch_error_list=epoch_error_list[:]\n",
        "    epoch_error_list.append(epoch_error)\n",
        "\n",
        "    #minimize the error function by computing partial derivatives\n",
        "    if m == 0 :\n",
        "     D_m = (-4/N)*sum(X*(Y-Y_hat)) -  lambdaVal * m / 1\n",
        "     D_c = (-2/N)*sum(Y-Y_hat) - lambdaVal \n",
        "    else :\n",
        "      D_m = (-4/N)*sum(X*(Y-Y_hat)) -  lambdaVal * m / abs(m)\n",
        "      D_c = (-2/N)*sum(Y-Y_hat) - lambdaVal \n",
        "    #Apply gradient descent formular to update both m and c into new values\n",
        "    m = m - (L*D_m)\n",
        "    c = c - (L*D_c) \n",
        "    \n",
        "  print(\"Final M is:\", m, \"Final c is:\", c)\n",
        "  print(epoch_error_list)\n",
        "  return Y_hat,epoch_count_list,epoch_error_list,m\n"
      ],
      "execution_count": 0,
      "outputs": []
    },
    {
      "cell_type": "markdown",
      "metadata": {
        "id": "uunRcDvnAYHt",
        "colab_type": "text"
      },
      "source": [
        "The if else statement handles the **float division by zero** error.\n",
        "This occurs in the first iteration where we are getting the derivative of m. if we divide m with its absolute value (zero) we get inifity."
      ]
    },
    {
      "cell_type": "code",
      "metadata": {
        "id": "ezaLCyVBOCUK",
        "colab_type": "code",
        "outputId": "a46641c5-9854-4ee7-b868-8a45b06d5cb6",
        "colab": {
          "base_uri": "https://localhost:8080/",
          "height": 721
        }
      },
      "source": [
        "#call gradient descent fit function\n",
        "returned_params=gradient_descent_fit(m,c,N,L)\n",
        "y_predicted=returned_params[0]\n",
        "total_epochs=returned_params[1]\n",
        "all_epoch_errors=returned_params[2]\n",
        "all_weights=returned_params[3]\n",
        "print(all_weights)\n",
        "\n",
        "#create plot for both line of best fit and error reduction graphs\n",
        "fig,(ax1,ax2) = plt.subplots(2,gridspec_kw={'top':2})\n",
        "ax1.set(xlabel=\"Office size in Sq ft\")\n",
        "ax1.set(ylabel=\"Monthly Rent in Ksh. (X1000)\")\n",
        "ax1.set_title(\"Regression Model For Nairobi Office Prices.\\n\\n Graph 1 (Main): Line of Best Fit\")\n",
        "ax1.scatter(X,Y)\n",
        "ax1.plot([min(X),max(X)],[min(y_predicted),max(y_predicted)],color='black')#plots the line of best fit\n",
        "\n",
        "ax2.set_title(\"Graph 2:MSE Monitoring Error Curve\")\n",
        "ax2.set(xlabel=\"Epochs\")\n",
        "ax2.set(ylabel=\"Error\")\n",
        "ax2.plot(total_epochs,all_epoch_errors)\n",
        "\n",
        "#Destroy the used lists to prevent recarpetting on append\n",
        "epoch_count_list.clear()\n",
        "epoch_error_list.clear()"
      ],
      "execution_count": 38,
      "outputs": [
        {
          "output_type": "stream",
          "text": [
            "Final M is: 1.478948558145393 Final c is: 0.035403067829538275\n",
            "[529038.7579078384, 30.126370511740873, 8.668590260766843, 8.616916297864899, 8.616278767667293, 8.615815689540721, 8.615353224407164, 8.614890777219797, 8.614428345942162, 8.613965930567689, 8.613503531094413, 8.613041147523385, 8.612578779853335, 8.6121164280857, 8.61165409221712, 8.611191772250775, 8.610729468183619, 8.610267180016669, 8.609804907749282, 8.609342651382358, 8.608880410912358, 8.608418186342501, 8.607955977670695, 8.607493784897422, 8.60703160802121, 8.606569447042844, 8.606107301961721, 8.605645172777546, 8.605183059489404, 8.604720962098401, 8.604258880602426, 8.603796815002791, 8.603334765297905, 8.602872731488592, 8.602410713573596, 8.601948711553305, 8.60148672542666, 8.601024755194281, 8.600562800855847, 8.600100862409146, 8.59963893985673, 8.59917703319617, 8.598715142427777, 8.598253267551243, 8.597791408567199, 8.597329565474482, 8.596867738271065, 8.59640592696066, 8.59594413153914, 8.595482352007977, 8.595020588367372, 8.594558840616122, 8.594097108753216, 8.593635392779474, 8.593173692694606, 8.592712008497264, 8.592250340189127, 8.591788687768313, 8.591327051233952, 8.590865430587783, 8.59040382582734, 8.589942236954265, 8.589480663965828, 8.589019106864544, 8.588557565648768, 8.588096040317156, 8.587634530871835, 8.587173037309634, 8.58671155963305, 8.586250097839896, 8.585788651930145, 8.585327221904208, 8.584865807760336, 8.58440440950041, 8.583943027121755, 8.583481660626193, 8.58302031001218, 8.582558975279412, 8.582097656428916, 8.581636353457453, 8.581175066367635, 8.580713795158237, 8.580252539829102, 8.579791300378268, 8.579330076808029, 8.578868869116558, 8.578407677303929, 8.577946501369288, 8.577485341312807, 8.577024197134515, 8.57656306883332, 8.576101956410293, 8.57564085986292, 8.57517977919266, 8.574718714398982, 8.57425766548105, 8.57379663243894, 8.573335615272665, 8.572874613980728, 8.572413628563325]\n",
            "1.478948558145393\n"
          ],
          "name": "stdout"
        },
        {
          "output_type": "display_data",
          "data": {
            "image/png": "[encoded data removed]",
            "text/plain": [
              "<Figure size 432x288 with 2 Axes>"
            ]
          },
          "metadata": {
            "tags": [],
            "needs_background": "light"
          }
        }
      ]
    }
  ]
}