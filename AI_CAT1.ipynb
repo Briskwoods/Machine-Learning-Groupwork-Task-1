{
  "nbformat": 4,
  "nbformat_minor": 0,
  "metadata": {
    "colab": {
      "name": "AI_CAT1.ipynb",
      "provenance": [],
      "collapsed_sections": [
        "RJk-1cJWFzoL",
        "cqJzOYL3GCFX",
        "LaqYa7SzGMaI"
      ],
      "authorship_tag": "ABX9TyMOvjHDUGRliBzLXnyfTwZ0",
      "include_colab_link": true
    },
    "kernelspec": {
      "name": "python3",
      "display_name": "Python 3"
    }
  },
  "cells": [
    {
      "cell_type": "markdown",
      "metadata": {
        "id": "view-in-github",
        "colab_type": "text"
      },
      "source": [
        "<a href=\"https://colab.research.google.com/github/Briskwoods/Machine-Learning-Groupwork-Task-1/blob/master/AI_CAT1.ipynb\" target=\"_parent\"><img src=\"https://colab.research.google.com/assets/colab-badge.svg\" alt=\"Open In Colab\"/></a>"
      ]
    },
    {
      "cell_type": "markdown",
      "metadata": {
        "id": "1cKXh8MHBFfr",
        "colab_type": "text"
      },
      "source": [
        "#Predicting Housing prices from California Housing Dataset.\n",
        "### The documnentation is divided into four main sections:\n",
        "\n",
        "\n",
        "*   Data Preprocessing\n",
        "*   Model Identification\n",
        "*   Cross Validation\n",
        "*   Hyperparamter Tuning\n",
        "*   Model Selection\n",
        "\n",
        "\n",
        "\n",
        "\n",
        "\n"
      ]
    },
    {
      "cell_type": "markdown",
      "metadata": {
        "id": "413T19huCEFf",
        "colab_type": "text"
      },
      "source": [
        "## 1. Data Preprocessing\n"
      ]
    },
    {
      "cell_type": "markdown",
      "metadata": {
        "id": "kUngWgVTFpjD",
        "colab_type": "text"
      },
      "source": [
        "*Step One: Importing dataset and libraries*\n",
        "### The dataset is loaded using the fetch function, from sklearn model libraries.\n",
        "\n",
        "### A brief description of the data is also seen below"
      ]
    },
    {
      "cell_type": "code",
      "metadata": {
        "id": "CJYhOUsBqw5k",
        "colab_type": "code",
        "colab": {
          "base_uri": "https://localhost:8080/",
          "height": 72
        },
        "outputId": "4c1fced7-989c-48c8-8c95-f58b3e3a93c2"
      },
      "source": [
        "import numpy as np\n",
        "import pandas as pd\n",
        "import seaborn as sns\n",
        "import matplotlib.pyplot as plt\n",
        "from sklearn import linear_model,metrics\n",
        "from sklearn.datasets import fetch_california_housing\n",
        "from sklearn.preprocessing import StandardScaler, PowerTransformer\n",
        "from sklearn.decomposition import PCA\n",
        "from sklearn.linear_model import LinearRegression, Lasso, LassoCV, Ridge, ElasticNet\n",
        "from sklearn.model_selection import train_test_split,KFold,cross_val_score,GridSearchCV,RandomizedSearchCV"
      ],
      "execution_count": 1,
      "outputs": [
        {
          "output_type": "stream",
          "text": [
            "/usr/local/lib/python3.6/dist-packages/statsmodels/tools/_testing.py:19: FutureWarning: pandas.util.testing is deprecated. Use the functions in the public API at pandas.testing instead.\n",
            "  import pandas.util.testing as tm\n"
          ],
          "name": "stderr"
        }
      ]
    },
    {
      "cell_type": "code",
      "metadata": {
        "id": "26XTpBY2CUxa",
        "colab_type": "code",
        "colab": {
          "base_uri": "https://localhost:8080/",
          "height": 746
        },
        "outputId": "a7f444e7-8b08-4806-cbc2-2e4e2fc36a6b"
      },
      "source": [
        "print(cal_housing.DESCR)"
      ],
      "execution_count": 37,
      "outputs": [
        {
          "output_type": "stream",
          "text": [
            ".. _california_housing_dataset:\n",
            "\n",
            "California Housing dataset\n",
            "--------------------------\n",
            "\n",
            "**Data Set Characteristics:**\n",
            "\n",
            "    :Number of Instances: 20640\n",
            "\n",
            "    :Number of Attributes: 8 numeric, predictive attributes and the target\n",
            "\n",
            "    :Attribute Information:\n",
            "        - MedInc        median income in block\n",
            "        - HouseAge      median house age in block\n",
            "        - AveRooms      average number of rooms\n",
            "        - AveBedrms     average number of bedrooms\n",
            "        - Population    block population\n",
            "        - AveOccup      average house occupancy\n",
            "        - Latitude      house block latitude\n",
            "        - Longitude     house block longitude\n",
            "\n",
            "    :Missing Attribute Values: None\n",
            "\n",
            "This dataset was obtained from the StatLib repository.\n",
            "http://lib.stat.cmu.edu/datasets/\n",
            "\n",
            "The target variable is the median house value for California districts.\n",
            "\n",
            "This dataset was derived from the 1990 U.S. census, using one row per census\n",
            "block group. A block group is the smallest geographical unit for which the U.S.\n",
            "Census Bureau publishes sample data (a block group typically has a population\n",
            "of 600 to 3,000 people).\n",
            "\n",
            "It can be downloaded/loaded using the\n",
            ":func:`sklearn.datasets.fetch_california_housing` function.\n",
            "\n",
            ".. topic:: References\n",
            "\n",
            "    - Pace, R. Kelley and Ronald Barry, Sparse Spatial Autoregressions,\n",
            "      Statistics and Probability Letters, 33 (1997) 291-297\n",
            "\n"
          ],
          "name": "stdout"
        }
      ]
    },
    {
      "cell_type": "code",
      "metadata": {
        "id": "o-uFLUH4rvo7",
        "colab_type": "code",
        "colab": {
          "base_uri": "https://localhost:8080/",
          "height": 232
        },
        "outputId": "f412be6e-5ed2-42c3-9a9d-05ce0b35f2dc"
      },
      "source": [
        "cal_housing = fetch_california_housing()\n",
        "data = pd.DataFrame(cal_housing.data, columns=cal_housing.feature_names)\n",
        "target = pd.DataFrame(cal_housing.target)\n",
        "\n",
        "data.head()"
      ],
      "execution_count": 2,
      "outputs": [
        {
          "output_type": "stream",
          "text": [
            "Downloading Cal. housing from https://ndownloader.figshare.com/files/5976036 to /root/scikit_learn_data\n"
          ],
          "name": "stderr"
        },
        {
          "output_type": "execute_result",
          "data": {
            "text/html": [
              "<div>\n",
              "<style scoped>\n",
              "    .dataframe tbody tr th:only-of-type {\n",
              "        vertical-align: middle;\n",
              "    }\n",
              "\n",
              "    .dataframe tbody tr th {\n",
              "        vertical-align: top;\n",
              "    }\n",
              "\n",
              "    .dataframe thead th {\n",
              "        text-align: right;\n",
              "    }\n",
              "</style>\n",
              "<table border=\"1\" class=\"dataframe\">\n",
              "  <thead>\n",
              "    <tr style=\"text-align: right;\">\n",
              "      <th></th>\n",
              "      <th>MedInc</th>\n",
              "      <th>HouseAge</th>\n",
              "      <th>AveRooms</th>\n",
              "      <th>AveBedrms</th>\n",
              "      <th>Population</th>\n",
              "      <th>AveOccup</th>\n",
              "      <th>Latitude</th>\n",
              "      <th>Longitude</th>\n",
              "    </tr>\n",
              "  </thead>\n",
              "  <tbody>\n",
              "    <tr>\n",
              "      <th>0</th>\n",
              "      <td>8.3252</td>\n",
              "      <td>41.0</td>\n",
              "      <td>6.984127</td>\n",
              "      <td>1.023810</td>\n",
              "      <td>322.0</td>\n",
              "      <td>2.555556</td>\n",
              "      <td>37.88</td>\n",
              "      <td>-122.23</td>\n",
              "    </tr>\n",
              "    <tr>\n",
              "      <th>1</th>\n",
              "      <td>8.3014</td>\n",
              "      <td>21.0</td>\n",
              "      <td>6.238137</td>\n",
              "      <td>0.971880</td>\n",
              "      <td>2401.0</td>\n",
              "      <td>2.109842</td>\n",
              "      <td>37.86</td>\n",
              "      <td>-122.22</td>\n",
              "    </tr>\n",
              "    <tr>\n",
              "      <th>2</th>\n",
              "      <td>7.2574</td>\n",
              "      <td>52.0</td>\n",
              "      <td>8.288136</td>\n",
              "      <td>1.073446</td>\n",
              "      <td>496.0</td>\n",
              "      <td>2.802260</td>\n",
              "      <td>37.85</td>\n",
              "      <td>-122.24</td>\n",
              "    </tr>\n",
              "    <tr>\n",
              "      <th>3</th>\n",
              "      <td>5.6431</td>\n",
              "      <td>52.0</td>\n",
              "      <td>5.817352</td>\n",
              "      <td>1.073059</td>\n",
              "      <td>558.0</td>\n",
              "      <td>2.547945</td>\n",
              "      <td>37.85</td>\n",
              "      <td>-122.25</td>\n",
              "    </tr>\n",
              "    <tr>\n",
              "      <th>4</th>\n",
              "      <td>3.8462</td>\n",
              "      <td>52.0</td>\n",
              "      <td>6.281853</td>\n",
              "      <td>1.081081</td>\n",
              "      <td>565.0</td>\n",
              "      <td>2.181467</td>\n",
              "      <td>37.85</td>\n",
              "      <td>-122.25</td>\n",
              "    </tr>\n",
              "  </tbody>\n",
              "</table>\n",
              "</div>"
            ],
            "text/plain": [
              "   MedInc  HouseAge  AveRooms  ...  AveOccup  Latitude  Longitude\n",
              "0  8.3252      41.0  6.984127  ...  2.555556     37.88    -122.23\n",
              "1  8.3014      21.0  6.238137  ...  2.109842     37.86    -122.22\n",
              "2  7.2574      52.0  8.288136  ...  2.802260     37.85    -122.24\n",
              "3  5.6431      52.0  5.817352  ...  2.547945     37.85    -122.25\n",
              "4  3.8462      52.0  6.281853  ...  2.181467     37.85    -122.25\n",
              "\n",
              "[5 rows x 8 columns]"
            ]
          },
          "metadata": {
            "tags": []
          },
          "execution_count": 2
        }
      ]
    },
    {
      "cell_type": "markdown",
      "metadata": {
        "id": "R6pX6ZlIDd5v",
        "colab_type": "text"
      },
      "source": [
        "### *Step two: Checking for Missing*\n",
        "We have to check the datset to see if there are any missing values (Usually represented as NaN)\n",
        "We can then choose to either:\n",
        "\n",
        "*   Drop missing Values\n",
        "*   Fill missing Values\n",
        "\n",
        "\n"
      ]
    },
    {
      "cell_type": "code",
      "metadata": {
        "id": "qJWP8A7Fzy2o",
        "colab_type": "code",
        "colab": {
          "base_uri": "https://localhost:8080/",
          "height": 35
        },
        "outputId": "da72ca63-644f-40f3-80c4-1f404f7ff926"
      },
      "source": [
        "null_columns = data.columns[data.isna().any()]\n",
        "data[null_columns].isna().sum()\n",
        "\n",
        "null_columns\n",
        "#CHECKING FOR NULL VALUES"
      ],
      "execution_count": 3,
      "outputs": [
        {
          "output_type": "execute_result",
          "data": {
            "text/plain": [
              "Index([], dtype='object')"
            ]
          },
          "metadata": {
            "tags": []
          },
          "execution_count": 3
        }
      ]
    },
    {
      "cell_type": "markdown",
      "metadata": {
        "id": "Hy6d5b0PNPbi",
        "colab_type": "text"
      },
      "source": [
        "No missing values were present in this data set so we proceed to the next step."
      ]
    },
    {
      "cell_type": "markdown",
      "metadata": {
        "id": "bDy6KcnPECNS",
        "colab_type": "text"
      },
      "source": [
        "### *Step three: Check for correlated features*\n",
        "Next we need to understand how features in a dataset interact with each other. \n",
        "Correlation shows the relationship between the eight features of our dataset. It can either be positive or negative.\n",
        "\n",
        "Highly correlated variables are avoided when creating models since they tend to skew the output leading to \"noise that can otherwise led to an inaccurate model.\n",
        "\n",
        "To check for correlated features we used a *Correlation Matrix.*\n",
        "Each feature is listed on both axis and the yellow encoded ones show high correlation while the green ones show no correlation.\n",
        "For those that indicate high correlation, we can drop either one of the two feaures being compared.\n"
      ]
    },
    {
      "cell_type": "code",
      "metadata": {
        "id": "Yb8Pno34q36C",
        "colab_type": "code",
        "colab": {}
      },
      "source": [
        "#feature selection\n",
        "def plot_corr(data, size = 10):\n",
        "  corr = data.corr()\n",
        "  fig, ax = plt.subplots(figsize = (size, size))\n",
        "  ax.matshow(corr)\n",
        "  plt.xticks(range(len(corr.columns)), corr.columns)\n",
        "  plt.yticks(range(len(corr.columns)), corr.columns)\n",
        "\n",
        "  plt.setp(ax.get_xticklabels(), rotation=90, horizontalalignment='right')"
      ],
      "execution_count": 4,
      "outputs": []
    },
    {
      "cell_type": "code",
      "metadata": {
        "id": "fakLpBJysEP2",
        "colab_type": "code",
        "colab": {
          "base_uri": "https://localhost:8080/",
          "height": 641
        },
        "outputId": "d311edec-1ecd-44a7-954d-0eef4d163978"
      },
      "source": [
        "plot_corr(data)"
      ],
      "execution_count": 5,
      "outputs": [
        {
          "output_type": "display_data",
          "data": {
            "image/png": "[encoded data removed]",
            "text/plain": [
              "<Figure size 720x720 with 1 Axes>"
            ]
          },
          "metadata": {
            "tags": [],
            "needs_background": "light"
          }
        }
      ]
    },
    {
      "cell_type": "markdown",
      "metadata": {
        "id": "shSp7YrePJtL",
        "colab_type": "text"
      },
      "source": [
        "From the above matrix, we can choose either drop  average bedrooms and average rooms as they both have the same outcome on the price prediction."
      ]
    },
    {
      "cell_type": "markdown",
      "metadata": {
        "id": "sDhdfla2ENHZ",
        "colab_type": "text"
      },
      "source": [
        "### *Step four: Feature Extraction* "
      ]
    },
    {
      "cell_type": "code",
      "metadata": {
        "id": "LKand7_fqxsV",
        "colab_type": "code",
        "colab": {}
      },
      "source": [
        "X = data.copy()\n",
        "y = target.copy()\n",
        "X_ts = PowerTransformer().fit_transform(X)\n",
        "y_ts = PowerTransformer().fit_transform(y)"
      ],
      "execution_count": 7,
      "outputs": []
    },
    {
      "cell_type": "code",
      "metadata": {
        "id": "rSi6ajKKrK-R",
        "colab_type": "code",
        "colab": {
          "base_uri": "https://localhost:8080/",
          "height": 35
        },
        "outputId": "856fccc1-4fa6-429f-863b-fb7130dc4be6"
      },
      "source": [
        "pca_with_varia =PCA(0.9)\n",
        "pca_with_varia.fit_transform(X_ts)\n",
        "pca_with_varia.n_components_"
      ],
      "execution_count": 8,
      "outputs": [
        {
          "output_type": "execute_result",
          "data": {
            "text/plain": [
              "6"
            ]
          },
          "metadata": {
            "tags": []
          },
          "execution_count": 8
        }
      ]
    },
    {
      "cell_type": "code",
      "metadata": {
        "id": "jg_HP7iSElrf",
        "colab_type": "code",
        "colab": {
          "base_uri": "https://localhost:8080/",
          "height": 399
        },
        "outputId": "ed966d0f-50d6-44de-f724-a84bb4281bae"
      },
      "source": [
        "pca = PCA(n_components = 6)\n",
        "pc_s = pca.fit_transform(X_ts)\n",
        "pca_data = pd.DataFrame(pc_s, columns=['PC1','PC2','PC3','PC4','PC5','PC6'])\n",
        "target_data = pd.DataFrame(y_ts, columns =['MedVal'])\n",
        "final_data = pd.concat([pca_data, target_data],axis=1)\n",
        "final_data"
      ],
      "execution_count": 10,
      "outputs": [
        {
          "output_type": "execute_result",
          "data": {
            "text/html": [
              "<div>\n",
              "<style scoped>\n",
              "    .dataframe tbody tr th:only-of-type {\n",
              "        vertical-align: middle;\n",
              "    }\n",
              "\n",
              "    .dataframe tbody tr th {\n",
              "        vertical-align: top;\n",
              "    }\n",
              "\n",
              "    .dataframe thead th {\n",
              "        text-align: right;\n",
              "    }\n",
              "</style>\n",
              "<table border=\"1\" class=\"dataframe\">\n",
              "  <thead>\n",
              "    <tr style=\"text-align: right;\">\n",
              "      <th></th>\n",
              "      <th>PC1</th>\n",
              "      <th>PC2</th>\n",
              "      <th>PC3</th>\n",
              "      <th>PC4</th>\n",
              "      <th>PC5</th>\n",
              "      <th>PC6</th>\n",
              "      <th>MedVal</th>\n",
              "    </tr>\n",
              "  </thead>\n",
              "  <tbody>\n",
              "    <tr>\n",
              "      <th>0</th>\n",
              "      <td>2.339323</td>\n",
              "      <td>-1.029495</td>\n",
              "      <td>-1.833506</td>\n",
              "      <td>1.084577</td>\n",
              "      <td>-0.396658</td>\n",
              "      <td>-0.097847</td>\n",
              "      <td>1.715878</td>\n",
              "    </tr>\n",
              "    <tr>\n",
              "      <th>1</th>\n",
              "      <td>1.621925</td>\n",
              "      <td>-1.619071</td>\n",
              "      <td>0.372829</td>\n",
              "      <td>1.298967</td>\n",
              "      <td>1.685856</td>\n",
              "      <td>-0.828197</td>\n",
              "      <td>1.281389</td>\n",
              "    </tr>\n",
              "    <tr>\n",
              "      <th>2</th>\n",
              "      <td>2.333480</td>\n",
              "      <td>-1.056456</td>\n",
              "      <td>-1.692510</td>\n",
              "      <td>0.923991</td>\n",
              "      <td>-1.248685</td>\n",
              "      <td>-0.901860</td>\n",
              "      <td>1.247506</td>\n",
              "    </tr>\n",
              "    <tr>\n",
              "      <th>3</th>\n",
              "      <td>2.165364</td>\n",
              "      <td>0.052684</td>\n",
              "      <td>-1.376361</td>\n",
              "      <td>0.622079</td>\n",
              "      <td>-0.652495</td>\n",
              "      <td>-0.908222</td>\n",
              "      <td>1.188835</td>\n",
              "    </tr>\n",
              "    <tr>\n",
              "      <th>4</th>\n",
              "      <td>2.335353</td>\n",
              "      <td>0.364186</td>\n",
              "      <td>-1.407326</td>\n",
              "      <td>-0.037753</td>\n",
              "      <td>-0.368808</td>\n",
              "      <td>-0.930169</td>\n",
              "      <td>1.193798</td>\n",
              "    </tr>\n",
              "    <tr>\n",
              "      <th>...</th>\n",
              "      <td>...</td>\n",
              "      <td>...</td>\n",
              "      <td>...</td>\n",
              "      <td>...</td>\n",
              "      <td>...</td>\n",
              "      <td>...</td>\n",
              "      <td>...</td>\n",
              "    </tr>\n",
              "    <tr>\n",
              "      <th>20635</th>\n",
              "      <td>1.689388</td>\n",
              "      <td>0.977962</td>\n",
              "      <td>0.783628</td>\n",
              "      <td>-1.185460</td>\n",
              "      <td>-0.217468</td>\n",
              "      <td>0.618733</td>\n",
              "      <td>-1.414289</td>\n",
              "    </tr>\n",
              "    <tr>\n",
              "      <th>20636</th>\n",
              "      <td>1.970410</td>\n",
              "      <td>-0.406708</td>\n",
              "      <td>0.368609</td>\n",
              "      <td>-1.587568</td>\n",
              "      <td>-1.236878</td>\n",
              "      <td>1.314569</td>\n",
              "      <td>-1.433165</td>\n",
              "    </tr>\n",
              "    <tr>\n",
              "      <th>20637</th>\n",
              "      <td>1.708682</td>\n",
              "      <td>0.531152</td>\n",
              "      <td>1.023623</td>\n",
              "      <td>-1.274410</td>\n",
              "      <td>0.422943</td>\n",
              "      <td>0.785039</td>\n",
              "      <td>-1.160803</td>\n",
              "    </tr>\n",
              "    <tr>\n",
              "      <th>20638</th>\n",
              "      <td>1.981453</td>\n",
              "      <td>0.391902</td>\n",
              "      <td>0.559898</td>\n",
              "      <td>-1.671838</td>\n",
              "      <td>0.485431</td>\n",
              "      <td>0.748382</td>\n",
              "      <td>-1.293200</td>\n",
              "    </tr>\n",
              "    <tr>\n",
              "      <th>20639</th>\n",
              "      <td>1.533238</td>\n",
              "      <td>-0.055946</td>\n",
              "      <td>1.382412</td>\n",
              "      <td>-0.998480</td>\n",
              "      <td>0.160567</td>\n",
              "      <td>0.446808</td>\n",
              "      <td>-1.210476</td>\n",
              "    </tr>\n",
              "  </tbody>\n",
              "</table>\n",
              "<p>20640 rows × 7 columns</p>\n",
              "</div>"
            ],
            "text/plain": [
              "            PC1       PC2       PC3       PC4       PC5       PC6    MedVal\n",
              "0      2.339323 -1.029495 -1.833506  1.084577 -0.396658 -0.097847  1.715878\n",
              "1      1.621925 -1.619071  0.372829  1.298967  1.685856 -0.828197  1.281389\n",
              "2      2.333480 -1.056456 -1.692510  0.923991 -1.248685 -0.901860  1.247506\n",
              "3      2.165364  0.052684 -1.376361  0.622079 -0.652495 -0.908222  1.188835\n",
              "4      2.335353  0.364186 -1.407326 -0.037753 -0.368808 -0.930169  1.193798\n",
              "...         ...       ...       ...       ...       ...       ...       ...\n",
              "20635  1.689388  0.977962  0.783628 -1.185460 -0.217468  0.618733 -1.414289\n",
              "20636  1.970410 -0.406708  0.368609 -1.587568 -1.236878  1.314569 -1.433165\n",
              "20637  1.708682  0.531152  1.023623 -1.274410  0.422943  0.785039 -1.160803\n",
              "20638  1.981453  0.391902  0.559898 -1.671838  0.485431  0.748382 -1.293200\n",
              "20639  1.533238 -0.055946  1.382412 -0.998480  0.160567  0.446808 -1.210476\n",
              "\n",
              "[20640 rows x 7 columns]"
            ]
          },
          "metadata": {
            "tags": []
          },
          "execution_count": 10
        }
      ]
    },
    {
      "cell_type": "code",
      "metadata": {
        "id": "8WUZxmWEsw5Q",
        "colab_type": "code",
        "colab": {}
      },
      "source": [
        "final_data_array = final_data.to_numpy()"
      ],
      "execution_count": 11,
      "outputs": []
    },
    {
      "cell_type": "code",
      "metadata": {
        "id": "ZO9zIjTdtWns",
        "colab_type": "code",
        "colab": {}
      },
      "source": [
        "all_features = list(final_data.columns)\n",
        "all_features\n",
        "X_2 = final_data.loc[:,all_features[0]:all_features[-2]].values\n",
        "y_2 = final_data.loc[:,[all_features[-1]]].values"
      ],
      "execution_count": 12,
      "outputs": []
    },
    {
      "cell_type": "markdown",
      "metadata": {
        "id": "8ly1LiEjEX-z",
        "colab_type": "text"
      },
      "source": [
        "### *Step five: Split Train and Test data*"
      ]
    },
    {
      "cell_type": "code",
      "metadata": {
        "id": "RTiOCfr_cKTD",
        "colab_type": "code",
        "colab": {}
      },
      "source": [
        "X_train, X_test, y_train, y_test = train_test_split(X_2,y_2,test_size = 0.2, random_state=0)"
      ],
      "execution_count": 13,
      "outputs": []
    },
    {
      "cell_type": "markdown",
      "metadata": {
        "id": "VcoIaiu6Fioz",
        "colab_type": "text"
      },
      "source": [
        ""
      ]
    },
    {
      "cell_type": "markdown",
      "metadata": {
        "id": "RJk-1cJWFzoL",
        "colab_type": "text"
      },
      "source": [
        "# 2. Model Identification"
      ]
    },
    {
      "cell_type": "markdown",
      "metadata": {
        "id": "_agwNPrkG036",
        "colab_type": "text"
      },
      "source": [
        "We choose the four most common regression models to use for predicting house prices.\n",
        "They work well in cases of high dimensionality and multicollinearity among the variables in the dataset.\n",
        "The models include:\n",
        "\n",
        "*   Linear Regression\n",
        "*   Lasso Regression\n",
        "*   Ridge Regression\n",
        "*   ElasticNet Regression\n",
        "\n"
      ]
    },
    {
      "cell_type": "code",
      "metadata": {
        "id": "HvvG1RciiLqg",
        "colab_type": "code",
        "colab": {
          "base_uri": "https://localhost:8080/",
          "height": 76
        },
        "outputId": "f2023683-dd1a-4756-f41a-2535889bb811"
      },
      "source": [
        "result = {}\n",
        "models = {'LinearRegression':linear_model.LinearRegression(),\n",
        "          'Lasso':linear_model.Lasso(),\n",
        "          'Ridge':linear_model.Ridge(),\n",
        "          'ElasticNet':linear_model.ElasticNet()}\n",
        "\n",
        "for i in models:\n",
        "  models[i].fit(X_train,y_train)\n",
        "  accuracy = models[i].score(X_test,y_test)\n",
        "  result[i]=[accuracy]\n",
        "pd.DataFrame(result)"
      ],
      "execution_count": 14,
      "outputs": [
        {
          "output_type": "execute_result",
          "data": {
            "text/html": [
              "<div>\n",
              "<style scoped>\n",
              "    .dataframe tbody tr th:only-of-type {\n",
              "        vertical-align: middle;\n",
              "    }\n",
              "\n",
              "    .dataframe tbody tr th {\n",
              "        vertical-align: top;\n",
              "    }\n",
              "\n",
              "    .dataframe thead th {\n",
              "        text-align: right;\n",
              "    }\n",
              "</style>\n",
              "<table border=\"1\" class=\"dataframe\">\n",
              "  <thead>\n",
              "    <tr style=\"text-align: right;\">\n",
              "      <th></th>\n",
              "      <th>LinearRegression</th>\n",
              "      <th>Lasso</th>\n",
              "      <th>Ridge</th>\n",
              "      <th>ElasticNet</th>\n",
              "    </tr>\n",
              "  </thead>\n",
              "  <tbody>\n",
              "    <tr>\n",
              "      <th>0</th>\n",
              "      <td>0.471718</td>\n",
              "      <td>-0.000208</td>\n",
              "      <td>0.471719</td>\n",
              "      <td>-0.000208</td>\n",
              "    </tr>\n",
              "  </tbody>\n",
              "</table>\n",
              "</div>"
            ],
            "text/plain": [
              "   LinearRegression     Lasso     Ridge  ElasticNet\n",
              "0          0.471718 -0.000208  0.471719   -0.000208"
            ]
          },
          "metadata": {
            "tags": []
          },
          "execution_count": 14
        }
      ]
    },
    {
      "cell_type": "markdown",
      "metadata": {
        "id": "cqJzOYL3GCFX",
        "colab_type": "text"
      },
      "source": [
        "#3. Cross Validation"
      ]
    },
    {
      "cell_type": "markdown",
      "metadata": {
        "id": "t7RU_frSHnBv",
        "colab_type": "text"
      },
      "source": [
        "Once the models have been trained we would like to measure their accuracy.\n",
        "\n",
        "The above models use an error metric to determine the accurac of the model. However, its not very reliable as the accuracy obtained for one test can be very different to the accuracy obtained for a different test-set.\n",
        "\n",
        "***K-fold Cross Validation*** provides a solution to this problem by dividing the data into folds and ensuring that each fold is used as a testing set at some point."
      ]
    },
    {
      "cell_type": "code",
      "metadata": {
        "id": "380yBDj3vcld",
        "colab_type": "code",
        "colab": {
          "base_uri": "https://localhost:8080/",
          "height": 76
        },
        "outputId": "c8c10a85-df21-4b61-f96d-7fa207d5be4d"
      },
      "source": [
        "kfold = KFold(n_splits=4)\n",
        "for i in models:\n",
        "  regressor = models[i]\n",
        "  c_validated = cross_val_score(regressor,X_train,y_train,cv=kfold)\n",
        "  accuracy = c_validated.mean()\n",
        "  result[i]=[accuracy]\n",
        "pd.DataFrame(result)"
      ],
      "execution_count": 15,
      "outputs": [
        {
          "output_type": "execute_result",
          "data": {
            "text/html": [
              "<div>\n",
              "<style scoped>\n",
              "    .dataframe tbody tr th:only-of-type {\n",
              "        vertical-align: middle;\n",
              "    }\n",
              "\n",
              "    .dataframe tbody tr th {\n",
              "        vertical-align: top;\n",
              "    }\n",
              "\n",
              "    .dataframe thead th {\n",
              "        text-align: right;\n",
              "    }\n",
              "</style>\n",
              "<table border=\"1\" class=\"dataframe\">\n",
              "  <thead>\n",
              "    <tr style=\"text-align: right;\">\n",
              "      <th></th>\n",
              "      <th>LinearRegression</th>\n",
              "      <th>Lasso</th>\n",
              "      <th>Ridge</th>\n",
              "      <th>ElasticNet</th>\n",
              "    </tr>\n",
              "  </thead>\n",
              "  <tbody>\n",
              "    <tr>\n",
              "      <th>0</th>\n",
              "      <td>0.50366</td>\n",
              "      <td>-0.000059</td>\n",
              "      <td>0.50366</td>\n",
              "      <td>-0.000059</td>\n",
              "    </tr>\n",
              "  </tbody>\n",
              "</table>\n",
              "</div>"
            ],
            "text/plain": [
              "   LinearRegression     Lasso    Ridge  ElasticNet\n",
              "0           0.50366 -0.000059  0.50366   -0.000059"
            ]
          },
          "metadata": {
            "tags": []
          },
          "execution_count": 15
        }
      ]
    },
    {
      "cell_type": "markdown",
      "metadata": {
        "id": "xH1o30-wIuGu",
        "colab_type": "text"
      },
      "source": [
        "The accuracy of the models increase by 3%.\n",
        "But what if we increased the number of k-folds?"
      ]
    },
    {
      "cell_type": "code",
      "metadata": {
        "id": "o6KNsBf8I4eA",
        "colab_type": "code",
        "colab": {
          "base_uri": "https://localhost:8080/",
          "height": 76
        },
        "outputId": "098a6bb2-8bab-4562-efb2-5f6097601694"
      },
      "source": [
        "kfold_Large = KFold(n_splits=90)\n",
        "for i in models:\n",
        "  regressor = models[i]\n",
        "  c_validated = cross_val_score(regressor,X_train,y_train,cv=kfold_Large)\n",
        "  accuracy = c_validated.mean()\n",
        "  result[i]=[accuracy]\n",
        "pd.DataFrame(result)"
      ],
      "execution_count": 40,
      "outputs": [
        {
          "output_type": "execute_result",
          "data": {
            "text/html": [
              "<div>\n",
              "<style scoped>\n",
              "    .dataframe tbody tr th:only-of-type {\n",
              "        vertical-align: middle;\n",
              "    }\n",
              "\n",
              "    .dataframe tbody tr th {\n",
              "        vertical-align: top;\n",
              "    }\n",
              "\n",
              "    .dataframe thead th {\n",
              "        text-align: right;\n",
              "    }\n",
              "</style>\n",
              "<table border=\"1\" class=\"dataframe\">\n",
              "  <thead>\n",
              "    <tr style=\"text-align: right;\">\n",
              "      <th></th>\n",
              "      <th>LinearRegression</th>\n",
              "      <th>Lasso</th>\n",
              "      <th>Ridge</th>\n",
              "      <th>ElasticNet</th>\n",
              "    </tr>\n",
              "  </thead>\n",
              "  <tbody>\n",
              "    <tr>\n",
              "      <th>0</th>\n",
              "      <td>0.498286</td>\n",
              "      <td>-0.005534</td>\n",
              "      <td>0.498286</td>\n",
              "      <td>-0.005534</td>\n",
              "    </tr>\n",
              "  </tbody>\n",
              "</table>\n",
              "</div>"
            ],
            "text/plain": [
              "   LinearRegression     Lasso     Ridge  ElasticNet\n",
              "0          0.498286 -0.005534  0.498286   -0.005534"
            ]
          },
          "metadata": {
            "tags": []
          },
          "execution_count": 40
        }
      ]
    },
    {
      "cell_type": "markdown",
      "metadata": {
        "id": "rh8cN6cpJG8g",
        "colab_type": "text"
      },
      "source": [
        "The performance of the model, in terms of accuracy decreases.\n",
        "\n",
        "This is due to............"
      ]
    },
    {
      "cell_type": "markdown",
      "metadata": {
        "id": "LaqYa7SzGMaI",
        "colab_type": "text"
      },
      "source": [
        "# 4. Hyperparameter Tuning"
      ]
    },
    {
      "cell_type": "markdown",
      "metadata": {
        "id": "-iaQHFNoJW2I",
        "colab_type": "text"
      },
      "source": [
        "After seeing hoew the model is performing, we wouldlike optimise some of the hyperparamters of the model.\n",
        "Some of the hyperparameters ( depending on the model)  include but are not limited to:\n",
        "\n",
        "*   Size of hashing space\n",
        "*   Number of decision trees\n",
        "*   Depth of the decsion trees\n",
        "*   Learning rate\n",
        "*   Number of Iterations\n",
        "\n",
        "\n",
        "\n",
        "\n",
        "The purpose of tuning the hyperparameters is to find the set of hyperparameters leading to the lowest error on the validation set.\n",
        "\n",
        "We decided to employ Random Search, which randomly samples the search space instead of disicretizing it a Cartesian Grid.\n",
        "It is cost effect in terms of it using a sample of hyperparameters and not the whole space."
      ]
    },
    {
      "cell_type": "code",
      "metadata": {
        "id": "3Zl4YbZYjcID",
        "colab_type": "code",
        "colab": {
          "base_uri": "https://localhost:8080/",
          "height": 183
        },
        "outputId": "bc02c4f8-d3d6-48f5-b1f4-34ded2997c31"
      },
      "source": [
        "for i in models:\n",
        "  regressor = models[i]\n",
        "  if i == 'Ridge':\n",
        "    alpha_space = np.logspace(-4, 0.5, 50)\n",
        "    ridge_params = {'alpha':alpha_space}\n",
        "    random = RandomizedSearchCV(regressor,param_distributions=ridge_params,cv=3,n_jobs=-1)\n",
        "    results = random.fit(X_train,y_train)\n",
        "    print(results.best_score_)\n",
        "    print(\"Best Params for Ridge Regression are \", results.best_params_)\n",
        "    accuracy = results.score(X_test,y_test)\n",
        "  elif i == 'ElasticNet':\n",
        "    l1_space = np.linspace(0, 1, 30)\n",
        "    elastic_params = {'l1_ratio': l1_space}   \n",
        "    random = RandomizedSearchCV(regressor,param_distributions=elastic_params,cv=3,n_jobs=-1,refit=True)\n",
        "    results = random.fit(X_train,y_train)\n",
        "    print(results.best_score_)\n",
        "    print(\"Best Params for Elastic Net are \", results.best_params_)\n",
        "    accuracy = results.score(X_test,y_test)   \n",
        "  elif i == 'Lasso':\n",
        "    lasso_params = {'alpha':[0.02, 0.024, 0.025, 0.026, 0.03],'max_iter':[1000,1100,2000],'tol':[0.001,0.0001,0.000001]}   \n",
        "    random = RandomizedSearchCV(regressor,param_distributions=lasso_params,cv=3,n_jobs=-1,refit=True)\n",
        "    results = random.fit(X_train,y_train)\n",
        "    print(results.best_score_)\n",
        "    print(\"Best Params for Lasso Regression are \", results.best_params_)\n",
        "    accuracy = results.score(X_test,y_test) \n",
        "  else:    \n",
        "    c_validated = cross_val_score(regressor,X_train,y_train,cv=kfold)  \n",
        "    accuracy = c_validated.mean()\n",
        "  result[i]=[accuracy]\n",
        "pd.DataFrame(result)  "
      ],
      "execution_count": 41,
      "outputs": [
        {
          "output_type": "stream",
          "text": [
            "0.5014360345943071\n",
            "Best Params for Lasso Regression are  {'tol': 1e-06, 'max_iter': 1000, 'alpha': 0.02}\n",
            "0.5035794714769699\n",
            "Best Params for Ridge Regression are  {'alpha': 2.5595479226995383}\n",
            "0.24012426655199817\n",
            "Best Params for Elastic Net are  {'l1_ratio': 0.1724137931034483}\n"
          ],
          "name": "stdout"
        },
        {
          "output_type": "execute_result",
          "data": {
            "text/html": [
              "<div>\n",
              "<style scoped>\n",
              "    .dataframe tbody tr th:only-of-type {\n",
              "        vertical-align: middle;\n",
              "    }\n",
              "\n",
              "    .dataframe tbody tr th {\n",
              "        vertical-align: top;\n",
              "    }\n",
              "\n",
              "    .dataframe thead th {\n",
              "        text-align: right;\n",
              "    }\n",
              "</style>\n",
              "<table border=\"1\" class=\"dataframe\">\n",
              "  <thead>\n",
              "    <tr style=\"text-align: right;\">\n",
              "      <th></th>\n",
              "      <th>LinearRegression</th>\n",
              "      <th>Lasso</th>\n",
              "      <th>Ridge</th>\n",
              "      <th>ElasticNet</th>\n",
              "    </tr>\n",
              "  </thead>\n",
              "  <tbody>\n",
              "    <tr>\n",
              "      <th>0</th>\n",
              "      <td>0.50366</td>\n",
              "      <td>0.470899</td>\n",
              "      <td>0.47172</td>\n",
              "      <td>0.225129</td>\n",
              "    </tr>\n",
              "  </tbody>\n",
              "</table>\n",
              "</div>"
            ],
            "text/plain": [
              "   LinearRegression     Lasso    Ridge  ElasticNet\n",
              "0           0.50366  0.470899  0.47172    0.225129"
            ]
          },
          "metadata": {
            "tags": []
          },
          "execution_count": 41
        }
      ]
    },
    {
      "cell_type": "markdown",
      "metadata": {
        "id": "IbIgvFDtFuva",
        "colab_type": "text"
      },
      "source": [
        "We ran hyperparameter tuning and Cross Validation to test the accuracy of the models.\n",
        "We also output the best parameters to maintain for each model."
      ]
    },
    {
      "cell_type": "markdown",
      "metadata": {
        "id": "n_mNdYdnGVXT",
        "colab_type": "text"
      },
      "source": [
        "# 5.Model Selection"
      ]
    }
  ]
}