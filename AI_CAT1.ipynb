{
  "nbformat": 4,
  "nbformat_minor": 0,
  "metadata": {
    "colab": {
      "name": "AI_CAT1.ipynb",
      "provenance": [],
      "collapsed_sections": [],
      "authorship_tag": "ABX9TyNHLuJMQLy4Fjw2SiFhrbB5",
      "include_colab_link": true
    },
    "kernelspec": {
      "name": "python3",
      "display_name": "Python 3"
    }
  },
  "cells": [
    {
      "cell_type": "markdown",
      "metadata": {
        "id": "view-in-github",
        "colab_type": "text"
      },
      "source": [
        "<a href=\"https://colab.research.google.com/github/Briskwoods/Machine-Learning-Groupwork-Task-1/blob/master/AI_CAT1.ipynb\" target=\"_parent\"><img src=\"https://colab.research.google.com/assets/colab-badge.svg\" alt=\"Open In Colab\"/></a>"
      ]
    },
    {
      "cell_type": "code",
      "metadata": {
        "id": "CJYhOUsBqw5k",
        "colab_type": "code",
        "colab": {}
      },
      "source": [
        "import numpy as np\n",
        "import pandas as pd\n",
        "import seaborn as sns\n",
        "import matplotlib.pyplot as plt\n",
        "from sklearn import linear_model,metrics\n",
        "from sklearn.datasets import fetch_california_housing\n",
        "from sklearn.preprocessing import StandardScaler, PowerTransformer\n",
        "from sklearn.decomposition import PCA\n",
        "from sklearn.linear_model import LinearRegression, Lasso, LassoCV, Ridge, ElasticNet\n",
        "from sklearn.model_selection import train_test_split,KFold,cross_val_score,GridSearchCV,RandomizedSearchCV"
      ],
      "execution_count": 48,
      "outputs": []
    },
    {
      "cell_type": "code",
      "metadata": {
        "id": "o-uFLUH4rvo7",
        "colab_type": "code",
        "colab": {
          "base_uri": "https://localhost:8080/",
          "height": 232
        },
        "outputId": "e8e12bc5-2029-4559-e0d6-e70280ad2e63"
      },
      "source": [
        "cal_housing = fetch_california_housing()\n",
        "data = pd.DataFrame(cal_housing.data, columns=cal_housing.feature_names)\n",
        "target = pd.DataFrame(cal_housing.target)\n",
        "\n",
        "data.head()"
      ],
      "execution_count": 2,
      "outputs": [
        {
          "output_type": "stream",
          "text": [
            "Downloading Cal. housing from https://ndownloader.figshare.com/files/5976036 to /root/scikit_learn_data\n"
          ],
          "name": "stderr"
        },
        {
          "output_type": "execute_result",
          "data": {
            "text/html": [
              "<div>\n",
              "<style scoped>\n",
              "    .dataframe tbody tr th:only-of-type {\n",
              "        vertical-align: middle;\n",
              "    }\n",
              "\n",
              "    .dataframe tbody tr th {\n",
              "        vertical-align: top;\n",
              "    }\n",
              "\n",
              "    .dataframe thead th {\n",
              "        text-align: right;\n",
              "    }\n",
              "</style>\n",
              "<table border=\"1\" class=\"dataframe\">\n",
              "  <thead>\n",
              "    <tr style=\"text-align: right;\">\n",
              "      <th></th>\n",
              "      <th>MedInc</th>\n",
              "      <th>HouseAge</th>\n",
              "      <th>AveRooms</th>\n",
              "      <th>AveBedrms</th>\n",
              "      <th>Population</th>\n",
              "      <th>AveOccup</th>\n",
              "      <th>Latitude</th>\n",
              "      <th>Longitude</th>\n",
              "    </tr>\n",
              "  </thead>\n",
              "  <tbody>\n",
              "    <tr>\n",
              "      <th>0</th>\n",
              "      <td>8.3252</td>\n",
              "      <td>41.0</td>\n",
              "      <td>6.984127</td>\n",
              "      <td>1.023810</td>\n",
              "      <td>322.0</td>\n",
              "      <td>2.555556</td>\n",
              "      <td>37.88</td>\n",
              "      <td>-122.23</td>\n",
              "    </tr>\n",
              "    <tr>\n",
              "      <th>1</th>\n",
              "      <td>8.3014</td>\n",
              "      <td>21.0</td>\n",
              "      <td>6.238137</td>\n",
              "      <td>0.971880</td>\n",
              "      <td>2401.0</td>\n",
              "      <td>2.109842</td>\n",
              "      <td>37.86</td>\n",
              "      <td>-122.22</td>\n",
              "    </tr>\n",
              "    <tr>\n",
              "      <th>2</th>\n",
              "      <td>7.2574</td>\n",
              "      <td>52.0</td>\n",
              "      <td>8.288136</td>\n",
              "      <td>1.073446</td>\n",
              "      <td>496.0</td>\n",
              "      <td>2.802260</td>\n",
              "      <td>37.85</td>\n",
              "      <td>-122.24</td>\n",
              "    </tr>\n",
              "    <tr>\n",
              "      <th>3</th>\n",
              "      <td>5.6431</td>\n",
              "      <td>52.0</td>\n",
              "      <td>5.817352</td>\n",
              "      <td>1.073059</td>\n",
              "      <td>558.0</td>\n",
              "      <td>2.547945</td>\n",
              "      <td>37.85</td>\n",
              "      <td>-122.25</td>\n",
              "    </tr>\n",
              "    <tr>\n",
              "      <th>4</th>\n",
              "      <td>3.8462</td>\n",
              "      <td>52.0</td>\n",
              "      <td>6.281853</td>\n",
              "      <td>1.081081</td>\n",
              "      <td>565.0</td>\n",
              "      <td>2.181467</td>\n",
              "      <td>37.85</td>\n",
              "      <td>-122.25</td>\n",
              "    </tr>\n",
              "  </tbody>\n",
              "</table>\n",
              "</div>"
            ],
            "text/plain": [
              "   MedInc  HouseAge  AveRooms  ...  AveOccup  Latitude  Longitude\n",
              "0  8.3252      41.0  6.984127  ...  2.555556     37.88    -122.23\n",
              "1  8.3014      21.0  6.238137  ...  2.109842     37.86    -122.22\n",
              "2  7.2574      52.0  8.288136  ...  2.802260     37.85    -122.24\n",
              "3  5.6431      52.0  5.817352  ...  2.547945     37.85    -122.25\n",
              "4  3.8462      52.0  6.281853  ...  2.181467     37.85    -122.25\n",
              "\n",
              "[5 rows x 8 columns]"
            ]
          },
          "metadata": {
            "tags": []
          },
          "execution_count": 2
        }
      ]
    },
    {
      "cell_type": "code",
      "metadata": {
        "id": "qJWP8A7Fzy2o",
        "colab_type": "code",
        "colab": {
          "base_uri": "https://localhost:8080/",
          "height": 35
        },
        "outputId": "557b602a-08fc-4e56-c38e-c4d5e7215249"
      },
      "source": [
        "null_columns = data.columns[data.isna().any()]\n",
        "data[null_columns].isna().sum()\n",
        "\n",
        "null_columns\n",
        "#CHECKING FOR NULL VALUES"
      ],
      "execution_count": 4,
      "outputs": [
        {
          "output_type": "execute_result",
          "data": {
            "text/plain": [
              "Index([], dtype='object')"
            ]
          },
          "metadata": {
            "tags": []
          },
          "execution_count": 4
        }
      ]
    },
    {
      "cell_type": "code",
      "metadata": {
        "id": "Yb8Pno34q36C",
        "colab_type": "code",
        "colab": {}
      },
      "source": [
        "#feature selection\n",
        "def plot_corr(data, size = 10):\n",
        "  corr = data.corr()\n",
        "  fig, ax = plt.subplots(figsize = (size, size))\n",
        "  ax.matshow(corr)\n",
        "  plt.xticks(range(len(corr.columns)), corr.columns)\n",
        "  plt.yticks(range(len(corr.columns)), corr.columns)\n",
        "\n",
        "  plt.setp(ax.get_xticklabels(), rotation=90, horizontalalignment='right')"
      ],
      "execution_count": 11,
      "outputs": []
    },
    {
      "cell_type": "code",
      "metadata": {
        "id": "fakLpBJysEP2",
        "colab_type": "code",
        "colab": {
          "base_uri": "https://localhost:8080/",
          "height": 641
        },
        "outputId": "78cc102c-b35e-47e2-a808-d0ed3cdfae29"
      },
      "source": [
        "plot_corr(data)"
      ],
      "execution_count": 12,
      "outputs": [
        {
          "output_type": "display_data",
          "data": {
            "image/png": "[encoded data removed]",
            "text/plain": [
              "<Figure size 720x720 with 1 Axes>"
            ]
          },
          "metadata": {
            "tags": [],
            "needs_background": "light"
          }
        }
      ]
    },
    {
      "cell_type": "code",
      "metadata": {
        "id": "hMRXTmjgtKon",
        "colab_type": "code",
        "colab": {}
      },
      "source": [
        "# feature extraction using PCA\n",
        "#sc = StandardScaler()\n",
        "#data_standardized = sc.fit_transform(data)"
      ],
      "execution_count": 13,
      "outputs": []
    },
    {
      "cell_type": "code",
      "metadata": {
        "id": "LKand7_fqxsV",
        "colab_type": "code",
        "colab": {}
      },
      "source": [
        "X = data.copy()\n",
        "y = target.copy()\n",
        "X_ts = PowerTransformer().fit_transform(X)\n",
        "y_ts = PowerTransformer().fit_transform(y)"
      ],
      "execution_count": 50,
      "outputs": []
    },
    {
      "cell_type": "code",
      "metadata": {
        "id": "rSi6ajKKrK-R",
        "colab_type": "code",
        "colab": {
          "base_uri": "https://localhost:8080/",
          "height": 35
        },
        "outputId": "549fe427-28a9-424b-a79c-0c3f495f6f01"
      },
      "source": [
        "pca_with_varia =PCA(0.9)\n",
        "pca_with_varia.fit_transform(X_ts)\n",
        "pca_with_varia.n_components_"
      ],
      "execution_count": 52,
      "outputs": [
        {
          "output_type": "execute_result",
          "data": {
            "text/plain": [
              "6"
            ]
          },
          "metadata": {
            "tags": []
          },
          "execution_count": 52
        }
      ]
    },
    {
      "cell_type": "code",
      "metadata": {
        "id": "jg_HP7iSElrf",
        "colab_type": "code",
        "colab": {
          "base_uri": "https://localhost:8080/",
          "height": 399
        },
        "outputId": "3c9c083e-4f9f-4f78-9b27-3616242860e8"
      },
      "source": [
        "pca = PCA(n_components = 6)\n",
        "pc_s = pca.fit_transform(data_standardized)\n",
        "pca_data = pd.DataFrame(pc_s, columns=['PC1','PC2','PC3','PC4','PC5','PC6'])\n",
        "target_data = pd.DataFrame(y_ts, columns =['MedVal'])\n",
        "final_data = pd.concat([pca_data, target_data],axis=1)\n",
        "final_data"
      ],
      "execution_count": 56,
      "outputs": [
        {
          "output_type": "execute_result",
          "data": {
            "text/html": [
              "<div>\n",
              "<style scoped>\n",
              "    .dataframe tbody tr th:only-of-type {\n",
              "        vertical-align: middle;\n",
              "    }\n",
              "\n",
              "    .dataframe tbody tr th {\n",
              "        vertical-align: top;\n",
              "    }\n",
              "\n",
              "    .dataframe thead th {\n",
              "        text-align: right;\n",
              "    }\n",
              "</style>\n",
              "<table border=\"1\" class=\"dataframe\">\n",
              "  <thead>\n",
              "    <tr style=\"text-align: right;\">\n",
              "      <th></th>\n",
              "      <th>PC1</th>\n",
              "      <th>PC2</th>\n",
              "      <th>PC3</th>\n",
              "      <th>PC4</th>\n",
              "      <th>PC5</th>\n",
              "      <th>PC6</th>\n",
              "      <th>MedVal</th>\n",
              "    </tr>\n",
              "  </thead>\n",
              "  <tbody>\n",
              "    <tr>\n",
              "      <th>0</th>\n",
              "      <td>1.882704</td>\n",
              "      <td>-0.503362</td>\n",
              "      <td>-0.314134</td>\n",
              "      <td>-2.555093</td>\n",
              "      <td>0.128040</td>\n",
              "      <td>0.485177</td>\n",
              "      <td>1.715878</td>\n",
              "    </tr>\n",
              "    <tr>\n",
              "      <th>1</th>\n",
              "      <td>1.371120</td>\n",
              "      <td>-0.121406</td>\n",
              "      <td>1.905258</td>\n",
              "      <td>-1.872984</td>\n",
              "      <td>-0.267430</td>\n",
              "      <td>0.605123</td>\n",
              "      <td>1.281389</td>\n",
              "    </tr>\n",
              "    <tr>\n",
              "      <th>2</th>\n",
              "      <td>2.086868</td>\n",
              "      <td>-0.501136</td>\n",
              "      <td>-0.937245</td>\n",
              "      <td>-2.100133</td>\n",
              "      <td>0.370032</td>\n",
              "      <td>1.158676</td>\n",
              "      <td>1.247506</td>\n",
              "    </tr>\n",
              "    <tr>\n",
              "      <th>3</th>\n",
              "      <td>1.575801</td>\n",
              "      <td>-1.239495</td>\n",
              "      <td>-1.025957</td>\n",
              "      <td>-1.286721</td>\n",
              "      <td>0.318956</td>\n",
              "      <td>0.977902</td>\n",
              "      <td>1.188835</td>\n",
              "    </tr>\n",
              "    <tr>\n",
              "      <th>4</th>\n",
              "      <td>1.591206</td>\n",
              "      <td>-1.345264</td>\n",
              "      <td>-1.249171</td>\n",
              "      <td>-0.450778</td>\n",
              "      <td>0.293612</td>\n",
              "      <td>0.865664</td>\n",
              "      <td>1.193798</td>\n",
              "    </tr>\n",
              "    <tr>\n",
              "      <th>...</th>\n",
              "      <td>...</td>\n",
              "      <td>...</td>\n",
              "      <td>...</td>\n",
              "      <td>...</td>\n",
              "      <td>...</td>\n",
              "      <td>...</td>\n",
              "      <td>...</td>\n",
              "    </tr>\n",
              "    <tr>\n",
              "      <th>20635</th>\n",
              "      <td>1.386779</td>\n",
              "      <td>-1.296137</td>\n",
              "      <td>0.054262</td>\n",
              "      <td>1.063026</td>\n",
              "      <td>-0.163868</td>\n",
              "      <td>-0.738947</td>\n",
              "      <td>-1.414289</td>\n",
              "    </tr>\n",
              "    <tr>\n",
              "      <th>20636</th>\n",
              "      <td>1.875219</td>\n",
              "      <td>-0.671533</td>\n",
              "      <td>0.155700</td>\n",
              "      <td>0.644612</td>\n",
              "      <td>-0.208383</td>\n",
              "      <td>-1.262269</td>\n",
              "      <td>-1.433165</td>\n",
              "    </tr>\n",
              "    <tr>\n",
              "      <th>20637</th>\n",
              "      <td>1.402357</td>\n",
              "      <td>-1.096426</td>\n",
              "      <td>0.567135</td>\n",
              "      <td>1.090397</td>\n",
              "      <td>-0.326347</td>\n",
              "      <td>-1.052189</td>\n",
              "      <td>-1.160803</td>\n",
              "    </tr>\n",
              "    <tr>\n",
              "      <th>20638</th>\n",
              "      <td>1.542943</td>\n",
              "      <td>-1.059408</td>\n",
              "      <td>0.365472</td>\n",
              "      <td>0.968799</td>\n",
              "      <td>-0.323242</td>\n",
              "      <td>-1.121581</td>\n",
              "      <td>-1.293200</td>\n",
              "    </tr>\n",
              "    <tr>\n",
              "      <th>20639</th>\n",
              "      <td>1.405516</td>\n",
              "      <td>-0.896727</td>\n",
              "      <td>0.896812</td>\n",
              "      <td>0.900237</td>\n",
              "      <td>-0.309362</td>\n",
              "      <td>-0.818778</td>\n",
              "      <td>-1.210476</td>\n",
              "    </tr>\n",
              "  </tbody>\n",
              "</table>\n",
              "<p>20640 rows × 7 columns</p>\n",
              "</div>"
            ],
            "text/plain": [
              "            PC1       PC2       PC3       PC4       PC5       PC6    MedVal\n",
              "0      1.882704 -0.503362 -0.314134 -2.555093  0.128040  0.485177  1.715878\n",
              "1      1.371120 -0.121406  1.905258 -1.872984 -0.267430  0.605123  1.281389\n",
              "2      2.086868 -0.501136 -0.937245 -2.100133  0.370032  1.158676  1.247506\n",
              "3      1.575801 -1.239495 -1.025957 -1.286721  0.318956  0.977902  1.188835\n",
              "4      1.591206 -1.345264 -1.249171 -0.450778  0.293612  0.865664  1.193798\n",
              "...         ...       ...       ...       ...       ...       ...       ...\n",
              "20635  1.386779 -1.296137  0.054262  1.063026 -0.163868 -0.738947 -1.414289\n",
              "20636  1.875219 -0.671533  0.155700  0.644612 -0.208383 -1.262269 -1.433165\n",
              "20637  1.402357 -1.096426  0.567135  1.090397 -0.326347 -1.052189 -1.160803\n",
              "20638  1.542943 -1.059408  0.365472  0.968799 -0.323242 -1.121581 -1.293200\n",
              "20639  1.405516 -0.896727  0.896812  0.900237 -0.309362 -0.818778 -1.210476\n",
              "\n",
              "[20640 rows x 7 columns]"
            ]
          },
          "metadata": {
            "tags": []
          },
          "execution_count": 56
        }
      ]
    },
    {
      "cell_type": "code",
      "metadata": {
        "id": "8WUZxmWEsw5Q",
        "colab_type": "code",
        "colab": {}
      },
      "source": [
        "final_data_array = final_data.to_numpy()"
      ],
      "execution_count": 57,
      "outputs": []
    },
    {
      "cell_type": "code",
      "metadata": {
        "id": "ZO9zIjTdtWns",
        "colab_type": "code",
        "colab": {}
      },
      "source": [
        "all_features = list(final_data.columns)\n",
        "all_features\n",
        "X_2 = final_data.loc[:,all_features[0]:all_features[-2]].values\n",
        "y_2 = final_data.loc[:,[all_features[-1]]].values"
      ],
      "execution_count": 58,
      "outputs": []
    },
    {
      "cell_type": "code",
      "metadata": {
        "id": "RTiOCfr_cKTD",
        "colab_type": "code",
        "colab": {}
      },
      "source": [
        "X_train, X_test, y_train, y_test = train_test_split(X_2,y_2,test_size = 0.2, random_state=0)"
      ],
      "execution_count": 59,
      "outputs": []
    },
    {
      "cell_type": "code",
      "metadata": {
        "id": "HvvG1RciiLqg",
        "colab_type": "code",
        "colab": {
          "base_uri": "https://localhost:8080/",
          "height": 76
        },
        "outputId": "0a22e26a-3981-4606-9453-71758af7fea8"
      },
      "source": [
        "result = {}\n",
        "models = {'LinearRegression':linear_model.LinearRegression(),\n",
        "          'Lasso':linear_model.Lasso(),\n",
        "          'Ridge':linear_model.Ridge(),\n",
        "          'ElasticNet':linear_model.ElasticNet()}\n",
        "\n",
        "for i in models:\n",
        "  models[i].fit(X_train,y_train)\n",
        "  accuracy = models[i].score(X_test,y_test)\n",
        "  result[i]=[accuracy]\n",
        "pd.DataFrame(result)"
      ],
      "execution_count": 60,
      "outputs": [
        {
          "output_type": "execute_result",
          "data": {
            "text/html": [
              "<div>\n",
              "<style scoped>\n",
              "    .dataframe tbody tr th:only-of-type {\n",
              "        vertical-align: middle;\n",
              "    }\n",
              "\n",
              "    .dataframe tbody tr th {\n",
              "        vertical-align: top;\n",
              "    }\n",
              "\n",
              "    .dataframe thead th {\n",
              "        text-align: right;\n",
              "    }\n",
              "</style>\n",
              "<table border=\"1\" class=\"dataframe\">\n",
              "  <thead>\n",
              "    <tr style=\"text-align: right;\">\n",
              "      <th></th>\n",
              "      <th>LinearRegression</th>\n",
              "      <th>Lasso</th>\n",
              "      <th>Ridge</th>\n",
              "      <th>ElasticNet</th>\n",
              "    </tr>\n",
              "  </thead>\n",
              "  <tbody>\n",
              "    <tr>\n",
              "      <th>0</th>\n",
              "      <td>0.450899</td>\n",
              "      <td>-0.000208</td>\n",
              "      <td>0.450902</td>\n",
              "      <td>0.104735</td>\n",
              "    </tr>\n",
              "  </tbody>\n",
              "</table>\n",
              "</div>"
            ],
            "text/plain": [
              "   LinearRegression     Lasso     Ridge  ElasticNet\n",
              "0          0.450899 -0.000208  0.450902    0.104735"
            ]
          },
          "metadata": {
            "tags": []
          },
          "execution_count": 60
        }
      ]
    },
    {
      "cell_type": "code",
      "metadata": {
        "id": "380yBDj3vcld",
        "colab_type": "code",
        "colab": {
          "base_uri": "https://localhost:8080/",
          "height": 76
        },
        "outputId": "b053461c-5bce-49a5-a6f4-d2de0e5e4c07"
      },
      "source": [
        "kfold = KFold(n_splits=4)\n",
        "for i in models:\n",
        "  regressor = models[i]\n",
        "  c_validated = cross_val_score(regressor,X_train,y_train,cv=kfold)\n",
        "  accuracy = c_validated.mean()\n",
        "  result[i]=[accuracy]\n",
        "pd.DataFrame(result)"
      ],
      "execution_count": 61,
      "outputs": [
        {
          "output_type": "execute_result",
          "data": {
            "text/html": [
              "<div>\n",
              "<style scoped>\n",
              "    .dataframe tbody tr th:only-of-type {\n",
              "        vertical-align: middle;\n",
              "    }\n",
              "\n",
              "    .dataframe tbody tr th {\n",
              "        vertical-align: top;\n",
              "    }\n",
              "\n",
              "    .dataframe thead th {\n",
              "        text-align: right;\n",
              "    }\n",
              "</style>\n",
              "<table border=\"1\" class=\"dataframe\">\n",
              "  <thead>\n",
              "    <tr style=\"text-align: right;\">\n",
              "      <th></th>\n",
              "      <th>LinearRegression</th>\n",
              "      <th>Lasso</th>\n",
              "      <th>Ridge</th>\n",
              "      <th>ElasticNet</th>\n",
              "    </tr>\n",
              "  </thead>\n",
              "  <tbody>\n",
              "    <tr>\n",
              "      <th>0</th>\n",
              "      <td>0.47891</td>\n",
              "      <td>-0.000059</td>\n",
              "      <td>0.478911</td>\n",
              "      <td>0.109949</td>\n",
              "    </tr>\n",
              "  </tbody>\n",
              "</table>\n",
              "</div>"
            ],
            "text/plain": [
              "   LinearRegression     Lasso     Ridge  ElasticNet\n",
              "0           0.47891 -0.000059  0.478911    0.109949"
            ]
          },
          "metadata": {
            "tags": []
          },
          "execution_count": 61
        }
      ]
    }
  ]
}